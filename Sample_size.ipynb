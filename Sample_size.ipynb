{
 "cells": [
  {
   "cell_type": "code",
   "execution_count": 1,
   "metadata": {
    "collapsed": true
   },
   "outputs": [],
   "source": [
    "%matplotlib inline\n",
    "import matplotlib.pyplot as plt\n",
    "import numpy as np\n"
   ]
  },
  {
   "cell_type": "code",
   "execution_count": 5,
   "metadata": {
    "collapsed": false
   },
   "outputs": [
    {
     "data": {
      "image/png": "[encoded data removed]",
      "text/plain": [
       "<matplotlib.figure.Figure at 0x10cf94550>"
      ]
     },
     "metadata": {},
     "output_type": "display_data"
    }
   ],
   "source": [
    "\n",
    "#returns a z value for the appropriate confidence level\n",
    "def zscore(c):\n",
    "\n",
    "    z = {80:1.28, 85:1.44, 90:1.65, 95:1.96, 99:2.58}\n",
    "    return z[c]\n",
    "\n",
    "#calculates sample size over a range of population\n",
    "#c can be edited to 80,85,90,95,99\n",
    "#e can be varied\n",
    "\n",
    "def sample_size(N):\n",
    "  c = 95 #confidence level is 95%\n",
    "  z = zscore(c)\n",
    "  p = 0.5 #assumed to be a normal distribuition\n",
    "  e = 0.05 #margin of error\n",
    "\n",
    "\n",
    "  part1 = (pow(z,2)*p*(1-p)) / (pow(e,2))\n",
    "  sample_size = part1 / (1+ part1/N)\n",
    "\n",
    "  return np.int_(sample_size)\n",
    "\n",
    "#print sample_size(100000)\n",
    "\n",
    "\n",
    "N1 = np.arange(100,100000,1000) #change the second parameter to increase or decrease the population size\n",
    "\n",
    "max_y = max(sample_size(N1))\n",
    "max_x = N1[sample_size(N1).argmax()]\n",
    "\n",
    "\n",
    "text_max = \"(\" +str(max_x)+\", \" +str(max_y)+\")\"\n",
    "plt.plot(N1,sample_size(N1))\n",
    "plt.plot(max_x,max_y)\n",
    "plt.xlabel(\"Population Size\")\n",
    "plt.ylabel(\"Sample Size\")\n",
    "plt.title(\"Sample Size Calculator\")\n",
    "plt.axhline(y = max_y, linewidth = 1, color = \"r\", ls=\"dashed\")\n",
    "plt.annotate(text_max, (max_x,max_y))\n",
    "plt.show()\n",
    "\n",
    "\n",
    "#formula to calculate sample size\n",
    "#https://www.surveymonkey.com/mp/sample-size-calculator/"
   ]
  },
  {
   "cell_type": "code",
   "execution_count": null,
   "metadata": {
    "collapsed": true
   },
   "outputs": [],
   "source": []
  }
 ],
 "metadata": {
  "kernelspec": {
   "display_name": "Python 2",
   "language": "python",
   "name": "python2"
  },
  "language_info": {
   "codemirror_mode": {
    "name": "ipython",
    "version": 2
   },
   "file_extension": ".py",
   "mimetype": "text/x-python",
   "name": "python",
   "nbconvert_exporter": "python",
   "pygments_lexer": "ipython2",
   "version": "2.7.10"
  }
 },
 "nbformat": 4,
 "nbformat_minor": 0
}
